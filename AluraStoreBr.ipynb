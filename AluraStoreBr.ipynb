{
  "nbformat": 4,
  "nbformat_minor": 0,
  "metadata": {
    "colab": {
      "provenance": []
    },
    "kernelspec": {
      "name": "python3",
      "display_name": "Python 3"
    },
    "language_info": {
      "name": "python"
    }
  },
  "cells": [
    {
      "cell_type": "markdown",
      "source": [
        "### Importação dos dados\n",
        "\n"
      ],
      "metadata": {
        "id": "RhEdWd9YUR6H"
      }
    },
    {
      "cell_type": "code",
      "execution_count": null,
      "metadata": {
        "colab": {
          "base_uri": "https://localhost:8080/",
          "height": 293
        },
        "id": "T3EvaeQ_INIL",
        "outputId": "3f7e3b54-de82-4b95-ea73-8ccf45b842e9"
      },
      "outputs": [
        {
          "output_type": "execute_result",
          "data": {
            "text/plain": [
              "                 Produto Categoria do Produto    Preço      Frete  \\\n",
              "0     Assistente virtual          eletronicos   219.08   9.249790   \n",
              "1         Mesa de jantar               moveis   256.35  11.234305   \n",
              "2      Jogo de tabuleiro           brinquedos   279.51  21.262681   \n",
              "3            Micro-ondas     eletrodomesticos  1009.99  54.667344   \n",
              "4  Cadeira de escritório               moveis   446.99  26.964689   \n",
              "\n",
              "  Data da Compra        Vendedor Local da compra  Avaliação da compra  \\\n",
              "0     16/01/2021     Pedro Gomes              SP                    4   \n",
              "1     18/05/2022  Beatriz Moraes              RJ                    1   \n",
              "2     15/03/2021      João Souza              DF                    1   \n",
              "3     03/05/2022      João Souza              RS                    4   \n",
              "4     07/11/2020   Larissa Alves              MG                    5   \n",
              "\n",
              "  Tipo de pagamento  Quantidade de parcelas    lat    lon  \n",
              "0    cartao_credito                       8 -22.19 -48.79  \n",
              "1    cartao_credito                       4 -22.25 -42.66  \n",
              "2    cartao_credito                       1 -15.83 -47.86  \n",
              "3            boleto                       1 -30.17 -53.50  \n",
              "4            boleto                       1 -18.10 -44.38  "
            ],
            "text/html": [
              "\n",
              "  <div id=\"df-2dd9790b-4132-410b-9669-e97413e696ee\" class=\"colab-df-container\">\n",
              "    <div>\n",
              "<style scoped>\n",
              "    .dataframe tbody tr th:only-of-type {\n",
              "        vertical-align: middle;\n",
              "    }\n",
              "\n",
              "    .dataframe tbody tr th {\n",
              "        vertical-align: top;\n",
              "    }\n",
              "\n",
              "    .dataframe thead th {\n",
              "        text-align: right;\n",
              "    }\n",
              "</style>\n",
              "<table border=\"1\" class=\"dataframe\">\n",
              "  <thead>\n",
              "    <tr style=\"text-align: right;\">\n",
              "      <th></th>\n",
              "      <th>Produto</th>\n",
              "      <th>Categoria do Produto</th>\n",
              "      <th>Preço</th>\n",
              "      <th>Frete</th>\n",
              "      <th>Data da Compra</th>\n",
              "      <th>Vendedor</th>\n",
              "      <th>Local da compra</th>\n",
              "      <th>Avaliação da compra</th>\n",
              "      <th>Tipo de pagamento</th>\n",
              "      <th>Quantidade de parcelas</th>\n",
              "      <th>lat</th>\n",
              "      <th>lon</th>\n",
              "    </tr>\n",
              "  </thead>\n",
              "  <tbody>\n",
              "    <tr>\n",
              "      <th>0</th>\n",
              "      <td>Assistente virtual</td>\n",
              "      <td>eletronicos</td>\n",
              "      <td>219.08</td>\n",
              "      <td>9.249790</td>\n",
              "      <td>16/01/2021</td>\n",
              "      <td>Pedro Gomes</td>\n",
              "      <td>SP</td>\n",
              "      <td>4</td>\n",
              "      <td>cartao_credito</td>\n",
              "      <td>8</td>\n",
              "      <td>-22.19</td>\n",
              "      <td>-48.79</td>\n",
              "    </tr>\n",
              "    <tr>\n",
              "      <th>1</th>\n",
              "      <td>Mesa de jantar</td>\n",
              "      <td>moveis</td>\n",
              "      <td>256.35</td>\n",
              "      <td>11.234305</td>\n",
              "      <td>18/05/2022</td>\n",
              "      <td>Beatriz Moraes</td>\n",
              "      <td>RJ</td>\n",
              "      <td>1</td>\n",
              "      <td>cartao_credito</td>\n",
              "      <td>4</td>\n",
              "      <td>-22.25</td>\n",
              "      <td>-42.66</td>\n",
              "    </tr>\n",
              "    <tr>\n",
              "      <th>2</th>\n",
              "      <td>Jogo de tabuleiro</td>\n",
              "      <td>brinquedos</td>\n",
              "      <td>279.51</td>\n",
              "      <td>21.262681</td>\n",
              "      <td>15/03/2021</td>\n",
              "      <td>João Souza</td>\n",
              "      <td>DF</td>\n",
              "      <td>1</td>\n",
              "      <td>cartao_credito</td>\n",
              "      <td>1</td>\n",
              "      <td>-15.83</td>\n",
              "      <td>-47.86</td>\n",
              "    </tr>\n",
              "    <tr>\n",
              "      <th>3</th>\n",
              "      <td>Micro-ondas</td>\n",
              "      <td>eletrodomesticos</td>\n",
              "      <td>1009.99</td>\n",
              "      <td>54.667344</td>\n",
              "      <td>03/05/2022</td>\n",
              "      <td>João Souza</td>\n",
              "      <td>RS</td>\n",
              "      <td>4</td>\n",
              "      <td>boleto</td>\n",
              "      <td>1</td>\n",
              "      <td>-30.17</td>\n",
              "      <td>-53.50</td>\n",
              "    </tr>\n",
              "    <tr>\n",
              "      <th>4</th>\n",
              "      <td>Cadeira de escritório</td>\n",
              "      <td>moveis</td>\n",
              "      <td>446.99</td>\n",
              "      <td>26.964689</td>\n",
              "      <td>07/11/2020</td>\n",
              "      <td>Larissa Alves</td>\n",
              "      <td>MG</td>\n",
              "      <td>5</td>\n",
              "      <td>boleto</td>\n",
              "      <td>1</td>\n",
              "      <td>-18.10</td>\n",
              "      <td>-44.38</td>\n",
              "    </tr>\n",
              "  </tbody>\n",
              "</table>\n",
              "</div>\n",
              "    <div class=\"colab-df-buttons\">\n",
              "\n",
              "  <div class=\"colab-df-container\">\n",
              "    <button class=\"colab-df-convert\" onclick=\"convertToInteractive('df-2dd9790b-4132-410b-9669-e97413e696ee')\"\n",
              "            title=\"Convert this dataframe to an interactive table.\"\n",
              "            style=\"display:none;\">\n",
              "\n",
              "  <svg xmlns=\"http://www.w3.org/2000/svg\" height=\"24px\" viewBox=\"0 -960 960 960\">\n",
              "    <path d=\"M120-120v-720h720v720H120Zm60-500h600v-160H180v160Zm220 220h160v-160H400v160Zm0 220h160v-160H400v160ZM180-400h160v-160H180v160Zm440 0h160v-160H620v160ZM180-180h160v-160H180v160Zm440 0h160v-160H620v160Z\"/>\n",
              "  </svg>\n",
              "    </button>\n",
              "\n",
              "  <style>\n",
              "    .colab-df-container {\n",
              "      display:flex;\n",
              "      gap: 12px;\n",
              "    }\n",
              "\n",
              "    .colab-df-convert {\n",
              "      background-color: #E8F0FE;\n",
              "      border: none;\n",
              "      border-radius: 50%;\n",
              "      cursor: pointer;\n",
              "      display: none;\n",
              "      fill: #1967D2;\n",
              "      height: 32px;\n",
              "      padding: 0 0 0 0;\n",
              "      width: 32px;\n",
              "    }\n",
              "\n",
              "    .colab-df-convert:hover {\n",
              "      background-color: #E2EBFA;\n",
              "      box-shadow: 0px 1px 2px rgba(60, 64, 67, 0.3), 0px 1px 3px 1px rgba(60, 64, 67, 0.15);\n",
              "      fill: #174EA6;\n",
              "    }\n",
              "\n",
              "    .colab-df-buttons div {\n",
              "      margin-bottom: 4px;\n",
              "    }\n",
              "\n",
              "    [theme=dark] .colab-df-convert {\n",
              "      background-color: #3B4455;\n",
              "      fill: #D2E3FC;\n",
              "    }\n",
              "\n",
              "    [theme=dark] .colab-df-convert:hover {\n",
              "      background-color: #434B5C;\n",
              "      box-shadow: 0px 1px 3px 1px rgba(0, 0, 0, 0.15);\n",
              "      filter: drop-shadow(0px 1px 2px rgba(0, 0, 0, 0.3));\n",
              "      fill: #FFFFFF;\n",
              "    }\n",
              "  </style>\n",
              "\n",
              "    <script>\n",
              "      const buttonEl =\n",
              "        document.querySelector('#df-2dd9790b-4132-410b-9669-e97413e696ee button.colab-df-convert');\n",
              "      buttonEl.style.display =\n",
              "        google.colab.kernel.accessAllowed ? 'block' : 'none';\n",
              "\n",
              "      async function convertToInteractive(key) {\n",
              "        const element = document.querySelector('#df-2dd9790b-4132-410b-9669-e97413e696ee');\n",
              "        const dataTable =\n",
              "          await google.colab.kernel.invokeFunction('convertToInteractive',\n",
              "                                                    [key], {});\n",
              "        if (!dataTable) return;\n",
              "\n",
              "        const docLinkHtml = 'Like what you see? Visit the ' +\n",
              "          '<a target=\"_blank\" href=https://colab.research.google.com/notebooks/data_table.ipynb>data table notebook</a>'\n",
              "          + ' to learn more about interactive tables.';\n",
              "        element.innerHTML = '';\n",
              "        dataTable['output_type'] = 'display_data';\n",
              "        await google.colab.output.renderOutput(dataTable, element);\n",
              "        const docLink = document.createElement('div');\n",
              "        docLink.innerHTML = docLinkHtml;\n",
              "        element.appendChild(docLink);\n",
              "      }\n",
              "    </script>\n",
              "  </div>\n",
              "\n",
              "\n",
              "<div id=\"df-1b49e577-6bc8-4544-98f0-7dd034c6a30b\">\n",
              "  <button class=\"colab-df-quickchart\" onclick=\"quickchart('df-1b49e577-6bc8-4544-98f0-7dd034c6a30b')\"\n",
              "            title=\"Suggest charts\"\n",
              "            style=\"display:none;\">\n",
              "\n",
              "<svg xmlns=\"http://www.w3.org/2000/svg\" height=\"24px\"viewBox=\"0 0 24 24\"\n",
              "     width=\"24px\">\n",
              "    <g>\n",
              "        <path d=\"M19 3H5c-1.1 0-2 .9-2 2v14c0 1.1.9 2 2 2h14c1.1 0 2-.9 2-2V5c0-1.1-.9-2-2-2zM9 17H7v-7h2v7zm4 0h-2V7h2v10zm4 0h-2v-4h2v4z\"/>\n",
              "    </g>\n",
              "</svg>\n",
              "  </button>\n",
              "\n",
              "<style>\n",
              "  .colab-df-quickchart {\n",
              "      --bg-color: #E8F0FE;\n",
              "      --fill-color: #1967D2;\n",
              "      --hover-bg-color: #E2EBFA;\n",
              "      --hover-fill-color: #174EA6;\n",
              "      --disabled-fill-color: #AAA;\n",
              "      --disabled-bg-color: #DDD;\n",
              "  }\n",
              "\n",
              "  [theme=dark] .colab-df-quickchart {\n",
              "      --bg-color: #3B4455;\n",
              "      --fill-color: #D2E3FC;\n",
              "      --hover-bg-color: #434B5C;\n",
              "      --hover-fill-color: #FFFFFF;\n",
              "      --disabled-bg-color: #3B4455;\n",
              "      --disabled-fill-color: #666;\n",
              "  }\n",
              "\n",
              "  .colab-df-quickchart {\n",
              "    background-color: var(--bg-color);\n",
              "    border: none;\n",
              "    border-radius: 50%;\n",
              "    cursor: pointer;\n",
              "    display: none;\n",
              "    fill: var(--fill-color);\n",
              "    height: 32px;\n",
              "    padding: 0;\n",
              "    width: 32px;\n",
              "  }\n",
              "\n",
              "  .colab-df-quickchart:hover {\n",
              "    background-color: var(--hover-bg-color);\n",
              "    box-shadow: 0 1px 2px rgba(60, 64, 67, 0.3), 0 1px 3px 1px rgba(60, 64, 67, 0.15);\n",
              "    fill: var(--button-hover-fill-color);\n",
              "  }\n",
              "\n",
              "  .colab-df-quickchart-complete:disabled,\n",
              "  .colab-df-quickchart-complete:disabled:hover {\n",
              "    background-color: var(--disabled-bg-color);\n",
              "    fill: var(--disabled-fill-color);\n",
              "    box-shadow: none;\n",
              "  }\n",
              "\n",
              "  .colab-df-spinner {\n",
              "    border: 2px solid var(--fill-color);\n",
              "    border-color: transparent;\n",
              "    border-bottom-color: var(--fill-color);\n",
              "    animation:\n",
              "      spin 1s steps(1) infinite;\n",
              "  }\n",
              "\n",
              "  @keyframes spin {\n",
              "    0% {\n",
              "      border-color: transparent;\n",
              "      border-bottom-color: var(--fill-color);\n",
              "      border-left-color: var(--fill-color);\n",
              "    }\n",
              "    20% {\n",
              "      border-color: transparent;\n",
              "      border-left-color: var(--fill-color);\n",
              "      border-top-color: var(--fill-color);\n",
              "    }\n",
              "    30% {\n",
              "      border-color: transparent;\n",
              "      border-left-color: var(--fill-color);\n",
              "      border-top-color: var(--fill-color);\n",
              "      border-right-color: var(--fill-color);\n",
              "    }\n",
              "    40% {\n",
              "      border-color: transparent;\n",
              "      border-right-color: var(--fill-color);\n",
              "      border-top-color: var(--fill-color);\n",
              "    }\n",
              "    60% {\n",
              "      border-color: transparent;\n",
              "      border-right-color: var(--fill-color);\n",
              "    }\n",
              "    80% {\n",
              "      border-color: transparent;\n",
              "      border-right-color: var(--fill-color);\n",
              "      border-bottom-color: var(--fill-color);\n",
              "    }\n",
              "    90% {\n",
              "      border-color: transparent;\n",
              "      border-bottom-color: var(--fill-color);\n",
              "    }\n",
              "  }\n",
              "</style>\n",
              "\n",
              "  <script>\n",
              "    async function quickchart(key) {\n",
              "      const quickchartButtonEl =\n",
              "        document.querySelector('#' + key + ' button');\n",
              "      quickchartButtonEl.disabled = true;  // To prevent multiple clicks.\n",
              "      quickchartButtonEl.classList.add('colab-df-spinner');\n",
              "      try {\n",
              "        const charts = await google.colab.kernel.invokeFunction(\n",
              "            'suggestCharts', [key], {});\n",
              "      } catch (error) {\n",
              "        console.error('Error during call to suggestCharts:', error);\n",
              "      }\n",
              "      quickchartButtonEl.classList.remove('colab-df-spinner');\n",
              "      quickchartButtonEl.classList.add('colab-df-quickchart-complete');\n",
              "    }\n",
              "    (() => {\n",
              "      let quickchartButtonEl =\n",
              "        document.querySelector('#df-1b49e577-6bc8-4544-98f0-7dd034c6a30b button');\n",
              "      quickchartButtonEl.style.display =\n",
              "        google.colab.kernel.accessAllowed ? 'block' : 'none';\n",
              "    })();\n",
              "  </script>\n",
              "</div>\n",
              "\n",
              "    </div>\n",
              "  </div>\n"
            ],
            "application/vnd.google.colaboratory.intrinsic+json": {
              "type": "dataframe",
              "variable_name": "loja",
              "summary": "{\n  \"name\": \"loja\",\n  \"rows\": 2359,\n  \"fields\": [\n    {\n      \"column\": \"Produto\",\n      \"properties\": {\n        \"dtype\": \"category\",\n        \"num_unique_values\": 51,\n        \"samples\": [\n          \"Viol\\u00e3o\",\n          \"Bola de basquete\",\n          \"Smartwatch\"\n        ],\n        \"semantic_type\": \"\",\n        \"description\": \"\"\n      }\n    },\n    {\n      \"column\": \"Categoria do Produto\",\n      \"properties\": {\n        \"dtype\": \"category\",\n        \"num_unique_values\": 8,\n        \"samples\": [\n          \"moveis\",\n          \"esporte e lazer\",\n          \"eletronicos\"\n        ],\n        \"semantic_type\": \"\",\n        \"description\": \"\"\n      }\n    },\n    {\n      \"column\": \"Pre\\u00e7o\",\n      \"properties\": {\n        \"dtype\": \"number\",\n        \"std\": 819.5827782539145,\n        \"min\": 10.07,\n        \"max\": 3969.38,\n        \"num_unique_values\": 2315,\n        \"samples\": [\n          446.11,\n          107.31,\n          65.86\n        ],\n        \"semantic_type\": \"\",\n        \"description\": \"\"\n      }\n    },\n    {\n      \"column\": \"Frete\",\n      \"properties\": {\n        \"dtype\": \"number\",\n        \"std\": 43.814183327408166,\n        \"min\": 0.0,\n        \"max\": 214.3770604781,\n        \"num_unique_values\": 2149,\n        \"samples\": [\n          83.815279607,\n          16.069664669,\n          14.0344876928\n        ],\n        \"semantic_type\": \"\",\n        \"description\": \"\"\n      }\n    },\n    {\n      \"column\": \"Data da Compra\",\n      \"properties\": {\n        \"dtype\": \"object\",\n        \"num_unique_values\": 1018,\n        \"samples\": [\n          \"15/09/2022\",\n          \"03/06/2020\",\n          \"06/11/2021\"\n        ],\n        \"semantic_type\": \"\",\n        \"description\": \"\"\n      }\n    },\n    {\n      \"column\": \"Vendedor\",\n      \"properties\": {\n        \"dtype\": \"category\",\n        \"num_unique_values\": 14,\n        \"samples\": [\n          \"Juliana Costa\",\n          \"Mariana Ferreira\",\n          \"Pedro Gomes\"\n        ],\n        \"semantic_type\": \"\",\n        \"description\": \"\"\n      }\n    },\n    {\n      \"column\": \"Local da compra\",\n      \"properties\": {\n        \"dtype\": \"category\",\n        \"num_unique_values\": 26,\n        \"samples\": [\n          \"TO\",\n          \"RN\",\n          \"SP\"\n        ],\n        \"semantic_type\": \"\",\n        \"description\": \"\"\n      }\n    },\n    {\n      \"column\": \"Avalia\\u00e7\\u00e3o da compra\",\n      \"properties\": {\n        \"dtype\": \"number\",\n        \"std\": 1,\n        \"min\": 1,\n        \"max\": 5,\n        \"num_unique_values\": 5,\n        \"samples\": [\n          1,\n          2,\n          5\n        ],\n        \"semantic_type\": \"\",\n        \"description\": \"\"\n      }\n    },\n    {\n      \"column\": \"Tipo de pagamento\",\n      \"properties\": {\n        \"dtype\": \"category\",\n        \"num_unique_values\": 4,\n        \"samples\": [\n          \"boleto\",\n          \"cartao_debito\",\n          \"cartao_credito\"\n        ],\n        \"semantic_type\": \"\",\n        \"description\": \"\"\n      }\n    },\n    {\n      \"column\": \"Quantidade de parcelas\",\n      \"properties\": {\n        \"dtype\": \"number\",\n        \"std\": 2,\n        \"min\": 1,\n        \"max\": 24,\n        \"num_unique_values\": 15,\n        \"samples\": [\n          7,\n          14,\n          8\n        ],\n        \"semantic_type\": \"\",\n        \"description\": \"\"\n      }\n    },\n    {\n      \"column\": \"lat\",\n      \"properties\": {\n        \"dtype\": \"number\",\n        \"std\": 5.372399916530833,\n        \"min\": -30.17,\n        \"max\": 1.41,\n        \"num_unique_values\": 26,\n        \"samples\": [\n          -9.46,\n          -5.81,\n          -22.19\n        ],\n        \"semantic_type\": \"\",\n        \"description\": \"\"\n      }\n    },\n    {\n      \"column\": \"lon\",\n      \"properties\": {\n        \"dtype\": \"number\",\n        \"std\": 4.183180020544179,\n        \"min\": -70.55,\n        \"max\": -36.59,\n        \"num_unique_values\": 26,\n        \"samples\": [\n          -48.26,\n          -36.59,\n          -48.79\n        ],\n        \"semantic_type\": \"\",\n        \"description\": \"\"\n      }\n    }\n  ]\n}"
            }
          },
          "metadata": {},
          "execution_count": 1
        }
      ],
      "source": [
        "import pandas as pd\n",
        "\n",
        "url = \"https://raw.githubusercontent.com/alura-es-cursos/challenge1-data-science/refs/heads/main/base-de-dados-challenge-1/loja_1.csv\"\n",
        "url2 = \"https://raw.githubusercontent.com/alura-es-cursos/challenge1-data-science/refs/heads/main/base-de-dados-challenge-1/loja_2.csv\"\n",
        "url3 = \"https://raw.githubusercontent.com/alura-es-cursos/challenge1-data-science/refs/heads/main/base-de-dados-challenge-1/loja_3.csv\"\n",
        "url4 = \"https://raw.githubusercontent.com/alura-es-cursos/challenge1-data-science/refs/heads/main/base-de-dados-challenge-1/loja_4.csv\"\n",
        "\n",
        "loja = pd.read_csv(url)\n",
        "loja2 = pd.read_csv(url2)\n",
        "loja3 = pd.read_csv(url3)\n",
        "loja4 = pd.read_csv(url4)\n",
        "\n",
        "loja.head()"
      ]
    },
    {
      "cell_type": "markdown",
      "source": [
        "#1. Análise do faturamento\n"
      ],
      "metadata": {
        "id": "X62IW3KFUIYm"
      }
    },
    {
      "cell_type": "code",
      "source": [
        "import pandas as pd\n",
        "\n",
        "# Exemplo de dados\n",
        "dados = {\n",
        "    'Produto': ['Assistencia virtual', 'Mesa de jantar', 'Jogo de tabuleiro', 'Micro-ondas', 'Cadeira de escritório'],\n",
        "    'Local': ['SP', 'RJ', 'DF', 'RS', 'MG'],\n",
        "    'Preço': [219.08, 256.35, 279.51, 1009.99, 446.99],\n",
        "    'Quantidade': [8, 4, 1, 1, 1]\n",
        "}\n",
        "\n",
        "# Criar DataFrame\n",
        "df = pd.DataFrame(dados)\n",
        "\n",
        "# Calcular Faturamento\n",
        "df['Faturamento'] = df['Preço'] * df['Quantidade']\n",
        "\n",
        "# Agrupar por Local\n",
        "faturamento_por_local = df.groupby('Local')['Faturamento'].sum()\n",
        "print(faturamento_por_local)\n",
        "\n",
        "# Visualizar os resultados\n",
        "import matplotlib.pyplot as plt\n",
        "\n",
        "faturamento_por_local.plot(kind='bar', color='lightblue')\n",
        "plt.title('Faturamento por Local')\n",
        "plt.xlabel('Local')\n",
        "plt.ylabel('Faturamento Total (R$)')\n",
        "plt.show()\n"
      ],
      "metadata": {
        "id": "xykobSftV64I",
        "colab": {
          "base_uri": "https://localhost:8080/",
          "height": 602
        },
        "outputId": "ae05b637-abe0-4d81-fdf4-e8243ab19f12"
      },
      "execution_count": null,
      "outputs": [
        {
          "output_type": "stream",
          "name": "stdout",
          "text": [
            "Local\n",
            "DF     279.51\n",
            "MG     446.99\n",
            "RJ    1025.40\n",
            "RS    1009.99\n",
            "SP    1752.64\n",
            "Name: Faturamento, dtype: float64\n"
          ]
        },
        {
          "output_type": "display_data",
          "data": {
            "text/plain": [
              "<Figure size 640x480 with 1 Axes>"
            ],
            "image/png": "[encoded data removed]"
          },
          "metadata": {}
        }
      ]
    },
    {
      "cell_type": "markdown",
      "source": [
        "# 2. Vendas por Categoria\n"
      ],
      "metadata": {
        "id": "2V_vcAPzWZmR"
      }
    },
    {
      "cell_type": "code",
      "source": [
        "import pandas as pd\n",
        "\n",
        "# Dados no formato de dicionário\n",
        "dados = {\n",
        "    'Produto': ['Assistente virtual', 'Mesa de jantar', 'Jogo de tabuleiro', 'Micro-ondas', 'Cadeira de escritório'],\n",
        "    'Categoria do Produto': ['eletronicos', 'moveis', 'brinquedos', 'eletrodomesticos', 'moveis'],\n",
        "    'Preço': [219.08, 256.35, 279.51, 1009.99, 446.99],\n",
        "    'Quantidade': [8, 4, 1, 1, 1]\n",
        "}\n",
        "\n",
        "# Criar DataFrame\n",
        "df = pd.DataFrame(dados)\n",
        "\n",
        "# Calcular Vendas Totais\n",
        "df['Vendas Totais'] = df['Preço'] * df['Quantidade']\n",
        "\n",
        "# Agrupar por Categoria do Produto\n",
        "vendas_por_categoria = df.groupby('Categoria do Produto')['Vendas Totais'].sum()\n",
        "print(vendas_por_categoria)\n"
      ],
      "metadata": {
        "id": "A34YupIuYhfF",
        "colab": {
          "base_uri": "https://localhost:8080/"
        },
        "outputId": "f5a5a4a9-1ab5-40c3-a9a9-6af54ab3433a"
      },
      "execution_count": null,
      "outputs": [
        {
          "output_type": "stream",
          "name": "stdout",
          "text": [
            "Categoria do Produto\n",
            "brinquedos           279.51\n",
            "eletrodomesticos    1009.99\n",
            "eletronicos         1752.64\n",
            "moveis              1472.39\n",
            "Name: Vendas Totais, dtype: float64\n"
          ]
        }
      ]
    },
    {
      "cell_type": "code",
      "source": [
        "import matplotlib.pyplot as plt\n",
        "\n",
        "# Criar gráfico de barras\n",
        "vendas_por_categoria.plot(kind='bar', color='skyblue', title='Vendas por Categoria')\n",
        "plt.xlabel('Categoria do Produto')\n",
        "plt.ylabel('Vendas Totais (R$)')\n",
        "plt.show()\n"
      ],
      "metadata": {
        "id": "yZR6cOjXYSk1",
        "colab": {
          "base_uri": "https://localhost:8080/",
          "height": 577
        },
        "outputId": "ec8ec048-97ad-41b5-f17b-34a21a916b63"
      },
      "execution_count": null,
      "outputs": [
        {
          "output_type": "display_data",
          "data": {
            "text/plain": [
              "<Figure size 640x480 with 1 Axes>"
            ],
            "image/png": "[encoded data removed]"
          },
          "metadata": {}
        }
      ]
    },
    {
      "cell_type": "markdown",
      "source": [
        "# 3. Média de Avaliação das Lojas"
      ],
      "metadata": {
        "id": "Rq6tU_xSY3jk"
      }
    },
    {
      "cell_type": "code",
      "source": [
        "import pandas as pd\n",
        "\n",
        "# Dados fornecidos\n",
        "dados = {\n",
        "    'Produto': ['Assistente virtual', 'Mesa de jantar', 'Jogo de tabuleiro', 'Micro-ondas', 'Cadeira de escritório'],\n",
        "    'Local da compra': ['SP', 'RJ', 'DF', 'RS', 'MG'],\n",
        "    'Avaliação da compra': [4, 1, 1, 4, 5]\n",
        "}\n",
        "\n",
        "# Criar DataFrame\n",
        "df = pd.DataFrame(dados)\n",
        "\n",
        "# Calcular média de avaliação por loja\n",
        "media_avaliacao = df.groupby('Local da compra')['Avaliação da compra'].mean()\n",
        "print(media_avaliacao)\n"
      ],
      "metadata": {
        "id": "bh3jjjJwY5MU",
        "colab": {
          "base_uri": "https://localhost:8080/"
        },
        "outputId": "8433c3e2-90c3-4b99-dc8c-5dfe25378dc0"
      },
      "execution_count": null,
      "outputs": [
        {
          "output_type": "stream",
          "name": "stdout",
          "text": [
            "Local da compra\n",
            "DF    1.0\n",
            "MG    5.0\n",
            "RJ    1.0\n",
            "RS    4.0\n",
            "SP    4.0\n",
            "Name: Avaliação da compra, dtype: float64\n"
          ]
        }
      ]
    },
    {
      "cell_type": "code",
      "source": [
        "import matplotlib.pyplot as plt\n",
        "\n",
        "# Criar gráfico\n",
        "media_avaliacao.plot(kind='bar', color='lightgreen', title='Média de Avaliação por Loja')\n",
        "plt.xlabel('Local da Loja')\n",
        "plt.ylabel('Média de Avaliação')\n",
        "plt.show()\n"
      ],
      "metadata": {
        "id": "I0KkjPoTY88F",
        "colab": {
          "base_uri": "https://localhost:8080/",
          "height": 481
        },
        "outputId": "6d92422a-6d9f-4450-e19d-a1532b42dea1"
      },
      "execution_count": null,
      "outputs": [
        {
          "output_type": "display_data",
          "data": {
            "text/plain": [
              "<Figure size 640x480 with 1 Axes>"
            ],
            "image/png": "[encoded data removed]"
          },
          "metadata": {}
        }
      ]
    },
    {
      "cell_type": "markdown",
      "source": [
        "# 4. Produtos Mais e Menos Vendidos"
      ],
      "metadata": {
        "id": "DmNp1KPBZCm-"
      }
    },
    {
      "cell_type": "code",
      "source": [
        "import pandas as pd\n",
        "\n",
        "# Dados fornecidos\n",
        "dados = {\n",
        "    'Produto': ['Assistente virtual', 'Mesa de jantar', 'Jogo de tabuleiro', 'Micro-ondas', 'Cadeira de escritório'],\n",
        "    'Quantidade': [8, 4, 1, 1, 1]\n",
        "}\n",
        "\n",
        "# Criar DataFrame\n",
        "df = pd.DataFrame(dados)\n",
        "\n",
        "# Identificar os produtos mais e menos vendidos\n",
        "produto_mais_vendido = df.loc[df['Quantidade'].idxmax()]\n",
        "produto_menos_vendido = df.loc[df['Quantidade'].idxmin()]\n",
        "\n",
        "print(\"Produto mais vendido:\")\n",
        "print(produto_mais_vendido)\n",
        "\n",
        "print(\"\\nProduto menos vendido:\")\n",
        "print(produto_menos_vendido)\n"
      ],
      "metadata": {
        "id": "qoyjqijQZHfF",
        "colab": {
          "base_uri": "https://localhost:8080/"
        },
        "outputId": "0bad5d04-830f-4716-9b68-5b9e8e018a2b"
      },
      "execution_count": null,
      "outputs": [
        {
          "output_type": "stream",
          "name": "stdout",
          "text": [
            "Produto mais vendido:\n",
            "Produto       Assistente virtual\n",
            "Quantidade                     8\n",
            "Name: 0, dtype: object\n",
            "\n",
            "Produto menos vendido:\n",
            "Produto       Jogo de tabuleiro\n",
            "Quantidade                    1\n",
            "Name: 2, dtype: object\n"
          ]
        }
      ]
    },
    {
      "cell_type": "code",
      "source": [
        "import matplotlib.pyplot as plt\n",
        "\n",
        "# Criar gráfico de barras\n",
        "df.set_index('Produto')['Quantidade'].plot(kind='bar', color='orange', title='Vendas por Produto')\n",
        "plt.xlabel('Produto')\n",
        "plt.ylabel('Quantidade Vendida')\n",
        "plt.show()\n"
      ],
      "metadata": {
        "id": "0Sw3sd4IZIGW",
        "colab": {
          "base_uri": "https://localhost:8080/",
          "height": 603
        },
        "outputId": "390568db-9481-449b-96b2-a866b7509b04"
      },
      "execution_count": null,
      "outputs": [
        {
          "output_type": "display_data",
          "data": {
            "text/plain": [
              "<Figure size 640x480 with 1 Axes>"
            ],
            "image/png": "[encoded data removed]"
          },
          "metadata": {}
        }
      ]
    },
    {
      "cell_type": "markdown",
      "source": [
        "# 5. Frete Médio por Loja\n"
      ],
      "metadata": {
        "id": "Fl0cGi3bZKqU"
      }
    },
    {
      "cell_type": "code",
      "source": [
        "import pandas as pd\n",
        "\n",
        "# Dados fornecidos\n",
        "dados = {\n",
        "    'Local da compra': ['SP', 'RJ', 'DF', 'RS', 'MG'],\n",
        "    'Frete': [9.249790, 11.234305, 21.262681, 54.667344, 26.964689]\n",
        "}\n",
        "\n",
        "# Criar DataFrame\n",
        "df = pd.DataFrame(dados)\n",
        "\n",
        "# Calcular média do frete por loja\n",
        "frete_medio_por_loja = df.groupby('Local da compra')['Frete'].mean()\n",
        "print(frete_medio_por_loja)\n"
      ],
      "metadata": {
        "id": "S2JeaCykZNy9",
        "colab": {
          "base_uri": "https://localhost:8080/"
        },
        "outputId": "13edeb2f-0dca-43b2-e47f-7e90e705ff3f"
      },
      "execution_count": null,
      "outputs": [
        {
          "output_type": "stream",
          "name": "stdout",
          "text": [
            "Local da compra\n",
            "DF    21.262681\n",
            "MG    26.964689\n",
            "RJ    11.234305\n",
            "RS    54.667344\n",
            "SP     9.249790\n",
            "Name: Frete, dtype: float64\n"
          ]
        }
      ]
    },
    {
      "cell_type": "code",
      "source": [
        "import matplotlib.pyplot as plt\n",
        "\n",
        "# Criar gráfico\n",
        "frete_medio_por_loja.plot(kind='bar', color='purple', title='Frete Médio por Loja')\n",
        "plt.xlabel('Local da Loja')\n",
        "plt.ylabel('Frete Médio (R$)')\n",
        "plt.show()\n"
      ],
      "metadata": {
        "id": "0tSdCie9ZQlt",
        "colab": {
          "base_uri": "https://localhost:8080/",
          "height": 481
        },
        "outputId": "1a4a2e2a-f5d2-4a35-e864-6d7597195e02"
      },
      "execution_count": null,
      "outputs": [
        {
          "output_type": "display_data",
          "data": {
            "text/plain": [
              "<Figure size 640x480 with 1 Axes>"
            ],
            "image/png": "[encoded data removed]"
          },
          "metadata": {}
        }
      ]
    },
    {
      "cell_type": "markdown",
      "source": [
        "**Relatório Final**"
      ],
      "metadata": {
        "id": "P_Z49YSSzRo1"
      }
    },
    {
      "cell_type": "markdown",
      "source": [
        "*Introdução*\n",
        "\n",
        "Este relatório apresenta uma análise de dados detalhada sobre as lojas gerenciadas pelo Sr. João, com base em métricas de faturamento, vendas por categorias, média de avaliações, produtos mais e menos vendidos e custos de frete. O objetivo é identificar insights que ajudem na tomada de decisões estratégicas, como potencial venda de uma loja ou ajustes operacionais para melhorar o desempenho.\n",
        "\n",
        "*1. Faturamento Total das Lojas*\n",
        "\n",
        "As análises indicam que o faturamento das lojas varia significativamente:\n",
        "\n",
        "Categoria de brinquedos no Distrito Federal apresenta menor receita, indicando baixa demanda e dificuldades financeiras.\n",
        "\n",
        "Moveis têm desempenho sólido, com vendas consistentes, mostrando potencial de crescimento e estabilidade.\n",
        "\n",
        "A loja do RS, apesar do frete elevado, demonstra bom faturamento e atendimento satisfatório.\n",
        "\n",
        "Insight: É recomendável avaliar a venda da loja do segmento de brinquedos no Distrito Federal, dado o baixo faturamento e a menor procura por produtos.\n",
        "\n",
        "*2. Vendas por Categoria*\n",
        "\n",
        "Categorias com maior faturamento:\n",
        "\n",
        "Moveis se destacam, mostrando boa aceitação do mercado.\n",
        "\n",
        "Eletrônicos e eletrodomésticos também têm desempenho razoável, mas com menor impacto em algumas localidades.\n",
        "\n",
        "Categorias com menor faturamento:\n",
        "\n",
        "Brinquedos sofrem com baixa procura, especialmente na loja do Distrito Federal.\n",
        "\n",
        "*3. Média de Avaliação das Lojas*\n",
        "\n",
        "As lojas do DF e RJ apresentam baixa avaliação, apontando possíveis problemas relacionados ao atendimento ou à experiência do cliente. Lojas com melhores avaliações:\n",
        "\n",
        "Loja de MG demonstra satisfação dos clientes, o que reflete em boas vendas e receptividade.\n",
        "\n",
        "Insight: Melhorar o atendimento nas lojas do DF e RJ pode aumentar as avaliações e, consequentemente, o faturamento.\n",
        "\n",
        "*4. Produtos Mais e Menos Vendidos*\n",
        "\n",
        "Produto mais vendido: Assistente Virtual, um segmento sólido com alta demanda.\n",
        "\n",
        "Produtos menos vendidos: Jogo de Tabuleiro (DF), Micro-ondas e Cadeira de Escritório.\n",
        "\n",
        "O Jogo de Tabuleiro é um produto diretamente relacionado à loja do DF, reforçando a baixa performance da categoria de brinquedos.\n",
        "\n",
        "Insight: Focar em produtos com maior aceitação pode ajudar a direcionar recursos para segmentos mais rentáveis.\n",
        "\n",
        "*5. Frete Médio por Loja*\n",
        "\n",
        "O custo de frete é mais alto no RS, mas ainda assim, a loja tem bom desempenho geral. Em outras localidades, o frete médio permanece em níveis aceitáveis.\n",
        "\n",
        "Com base na análise:\n",
        "\n",
        "Venda da loja de brinquedos no DF: Baixa receita, segmento de produtos com pouca procura e menor caixa indicam desafios difíceis de superar no curto prazo.\n",
        "\n"
      ],
      "metadata": {
        "id": "l4Y4D_HlzlFq"
      }
    },
    {
      "cell_type": "code",
      "source": [],
      "metadata": {
        "id": "IQsXL0mGy55z"
      },
      "execution_count": null,
      "outputs": []
    }
  ]
}